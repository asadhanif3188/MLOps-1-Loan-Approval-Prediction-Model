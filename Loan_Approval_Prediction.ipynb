{
  "cells": [
    {
      "cell_type": "markdown",
      "metadata": {
        "id": "view-in-github",
        "colab_type": "text"
      },
      "source": [
        "<a href=\"https://colab.research.google.com/github/asadhanif3188/MLOps-1-Loan-Approval-Prediction-Model/blob/main/Loan_Approval_Prediction.ipynb\" target=\"_parent\"><img src=\"https://colab.research.google.com/assets/colab-badge.svg\" alt=\"Open In Colab\"/></a>"
      ]
    },
    {
      "cell_type": "code",
      "execution_count": null,
      "id": "ebad1b08",
      "metadata": {
        "id": "ebad1b08"
      },
      "outputs": [],
      "source": [
        "# import libraries\n",
        "import numpy as np\n",
        "import pandas as pd\n",
        "from sklearn.impute import SimpleImputer\n",
        "from sklearn.preprocessing import LabelEncoder,MinMaxScaler"
      ]
    },
    {
      "cell_type": "code",
      "execution_count": null,
      "id": "2d910f17",
      "metadata": {
        "id": "2d910f17",
        "outputId": "f18354f0-45fb-4e20-9524-7bd39adbe21f"
      },
      "outputs": [
        {
          "data": {
            "text/html": [
              "<div>\n",
              "<style scoped>\n",
              "    .dataframe tbody tr th:only-of-type {\n",
              "        vertical-align: middle;\n",
              "    }\n",
              "\n",
              "    .dataframe tbody tr th {\n",
              "        vertical-align: top;\n",
              "    }\n",
              "\n",
              "    .dataframe thead th {\n",
              "        text-align: right;\n",
              "    }\n",
              "</style>\n",
              "<table border=\"1\" class=\"dataframe\">\n",
              "  <thead>\n",
              "    <tr style=\"text-align: right;\">\n",
              "      <th></th>\n",
              "      <th>Loan_ID</th>\n",
              "      <th>Gender</th>\n",
              "      <th>Married</th>\n",
              "      <th>Dependents</th>\n",
              "      <th>Education</th>\n",
              "      <th>Self_Employed</th>\n",
              "      <th>ApplicantIncome</th>\n",
              "      <th>CoapplicantIncome</th>\n",
              "      <th>LoanAmount</th>\n",
              "      <th>Loan_Amount_Term</th>\n",
              "      <th>Credit_History</th>\n",
              "      <th>Property_Area</th>\n",
              "      <th>Loan_Status</th>\n",
              "    </tr>\n",
              "  </thead>\n",
              "  <tbody>\n",
              "    <tr>\n",
              "      <th>0</th>\n",
              "      <td>LP001002</td>\n",
              "      <td>Male</td>\n",
              "      <td>No</td>\n",
              "      <td>0</td>\n",
              "      <td>Graduate</td>\n",
              "      <td>No</td>\n",
              "      <td>5849</td>\n",
              "      <td>0.0</td>\n",
              "      <td>NaN</td>\n",
              "      <td>360.0</td>\n",
              "      <td>1.0</td>\n",
              "      <td>Urban</td>\n",
              "      <td>Y</td>\n",
              "    </tr>\n",
              "    <tr>\n",
              "      <th>1</th>\n",
              "      <td>LP001003</td>\n",
              "      <td>Male</td>\n",
              "      <td>Yes</td>\n",
              "      <td>1</td>\n",
              "      <td>Graduate</td>\n",
              "      <td>No</td>\n",
              "      <td>4583</td>\n",
              "      <td>1508.0</td>\n",
              "      <td>128.0</td>\n",
              "      <td>360.0</td>\n",
              "      <td>1.0</td>\n",
              "      <td>Rural</td>\n",
              "      <td>N</td>\n",
              "    </tr>\n",
              "    <tr>\n",
              "      <th>2</th>\n",
              "      <td>LP001005</td>\n",
              "      <td>Male</td>\n",
              "      <td>Yes</td>\n",
              "      <td>0</td>\n",
              "      <td>Graduate</td>\n",
              "      <td>Yes</td>\n",
              "      <td>3000</td>\n",
              "      <td>0.0</td>\n",
              "      <td>66.0</td>\n",
              "      <td>360.0</td>\n",
              "      <td>1.0</td>\n",
              "      <td>Urban</td>\n",
              "      <td>Y</td>\n",
              "    </tr>\n",
              "    <tr>\n",
              "      <th>3</th>\n",
              "      <td>LP001006</td>\n",
              "      <td>Male</td>\n",
              "      <td>Yes</td>\n",
              "      <td>0</td>\n",
              "      <td>Not Graduate</td>\n",
              "      <td>No</td>\n",
              "      <td>2583</td>\n",
              "      <td>2358.0</td>\n",
              "      <td>120.0</td>\n",
              "      <td>360.0</td>\n",
              "      <td>1.0</td>\n",
              "      <td>Urban</td>\n",
              "      <td>Y</td>\n",
              "    </tr>\n",
              "    <tr>\n",
              "      <th>4</th>\n",
              "      <td>LP001008</td>\n",
              "      <td>Male</td>\n",
              "      <td>No</td>\n",
              "      <td>0</td>\n",
              "      <td>Graduate</td>\n",
              "      <td>No</td>\n",
              "      <td>6000</td>\n",
              "      <td>0.0</td>\n",
              "      <td>141.0</td>\n",
              "      <td>360.0</td>\n",
              "      <td>1.0</td>\n",
              "      <td>Urban</td>\n",
              "      <td>Y</td>\n",
              "    </tr>\n",
              "  </tbody>\n",
              "</table>\n",
              "</div>"
            ],
            "text/plain": [
              "    Loan_ID Gender Married Dependents     Education Self_Employed  \\\n",
              "0  LP001002   Male      No          0      Graduate            No   \n",
              "1  LP001003   Male     Yes          1      Graduate            No   \n",
              "2  LP001005   Male     Yes          0      Graduate           Yes   \n",
              "3  LP001006   Male     Yes          0  Not Graduate            No   \n",
              "4  LP001008   Male      No          0      Graduate            No   \n",
              "\n",
              "   ApplicantIncome  CoapplicantIncome  LoanAmount  Loan_Amount_Term  \\\n",
              "0             5849                0.0         NaN             360.0   \n",
              "1             4583             1508.0       128.0             360.0   \n",
              "2             3000                0.0        66.0             360.0   \n",
              "3             2583             2358.0       120.0             360.0   \n",
              "4             6000                0.0       141.0             360.0   \n",
              "\n",
              "   Credit_History Property_Area Loan_Status  \n",
              "0             1.0         Urban           Y  \n",
              "1             1.0         Rural           N  \n",
              "2             1.0         Urban           Y  \n",
              "3             1.0         Urban           Y  \n",
              "4             1.0         Urban           Y  "
            ]
          },
          "execution_count": 63,
          "metadata": {},
          "output_type": "execute_result"
        }
      ],
      "source": [
        "raw_train = pd.read_csv('train.csv')\n",
        "raw_test = pd.read_csv('test.csv')\n",
        "raw_train.head()"
      ]
    },
    {
      "cell_type": "code",
      "execution_count": null,
      "id": "87a958cd",
      "metadata": {
        "id": "87a958cd",
        "outputId": "9e7faf50-86ed-4ede-bd92-63cadf10d2b0"
      },
      "outputs": [
        {
          "data": {
            "text/plain": [
              "(614, 13)"
            ]
          },
          "execution_count": 64,
          "metadata": {},
          "output_type": "execute_result"
        }
      ],
      "source": [
        "raw_train.shape"
      ]
    },
    {
      "cell_type": "code",
      "execution_count": null,
      "id": "6af51b07",
      "metadata": {
        "id": "6af51b07",
        "outputId": "1cc1e275-e718-4f9d-ea0a-7f97055e7a0f"
      },
      "outputs": [
        {
          "data": {
            "text/plain": [
              "Loan_ID              614\n",
              "Gender                 2\n",
              "Married                2\n",
              "Dependents             4\n",
              "Education              2\n",
              "Self_Employed          2\n",
              "ApplicantIncome      505\n",
              "CoapplicantIncome    287\n",
              "LoanAmount           203\n",
              "Loan_Amount_Term      10\n",
              "Credit_History         2\n",
              "Property_Area          3\n",
              "Loan_Status            2\n",
              "dtype: int64"
            ]
          },
          "execution_count": 65,
          "metadata": {},
          "output_type": "execute_result"
        }
      ],
      "source": [
        "raw_train.nunique()"
      ]
    },
    {
      "cell_type": "code",
      "execution_count": null,
      "id": "37fb40a0",
      "metadata": {
        "id": "37fb40a0"
      },
      "outputs": [],
      "source": [
        "train_df = raw_train.copy()\n",
        "test_df = raw_test.copy()"
      ]
    },
    {
      "cell_type": "code",
      "execution_count": null,
      "id": "20616555",
      "metadata": {
        "id": "20616555",
        "outputId": "37e1abf8-3daf-4569-fee4-2ee7eb207411"
      },
      "outputs": [
        {
          "name": "stdout",
          "output_type": "stream",
          "text": [
            "<class 'pandas.core.frame.DataFrame'>\n",
            "RangeIndex: 614 entries, 0 to 613\n",
            "Data columns (total 13 columns):\n",
            " #   Column             Non-Null Count  Dtype  \n",
            "---  ------             --------------  -----  \n",
            " 0   Loan_ID            614 non-null    object \n",
            " 1   Gender             601 non-null    object \n",
            " 2   Married            611 non-null    object \n",
            " 3   Dependents         599 non-null    object \n",
            " 4   Education          614 non-null    object \n",
            " 5   Self_Employed      582 non-null    object \n",
            " 6   ApplicantIncome    614 non-null    int64  \n",
            " 7   CoapplicantIncome  614 non-null    float64\n",
            " 8   LoanAmount         592 non-null    float64\n",
            " 9   Loan_Amount_Term   600 non-null    float64\n",
            " 10  Credit_History     564 non-null    float64\n",
            " 11  Property_Area      614 non-null    object \n",
            " 12  Loan_Status        614 non-null    object \n",
            "dtypes: float64(4), int64(1), object(8)\n",
            "memory usage: 62.5+ KB\n"
          ]
        }
      ],
      "source": [
        "train_df.info()"
      ]
    },
    {
      "cell_type": "code",
      "execution_count": null,
      "id": "d5d15d73",
      "metadata": {
        "id": "d5d15d73",
        "outputId": "47fb4302-5219-42ad-9122-1ad472f4bb2a"
      },
      "outputs": [
        {
          "name": "stdout",
          "output_type": "stream",
          "text": [
            "<class 'pandas.core.frame.DataFrame'>\n",
            "RangeIndex: 362 entries, 0 to 361\n",
            "Data columns (total 12 columns):\n",
            " #   Column             Non-Null Count  Dtype  \n",
            "---  ------             --------------  -----  \n",
            " 0   Loan_ID            362 non-null    object \n",
            " 1   Gender             351 non-null    object \n",
            " 2   Married            362 non-null    object \n",
            " 3   Dependents         353 non-null    object \n",
            " 4   Education          362 non-null    object \n",
            " 5   Self_Employed      339 non-null    object \n",
            " 6   ApplicantIncome    362 non-null    int64  \n",
            " 7   CoapplicantIncome  362 non-null    int64  \n",
            " 8   LoanAmount         362 non-null    int64  \n",
            " 9   Loan_Amount_Term   356 non-null    float64\n",
            " 10  Credit_History     333 non-null    float64\n",
            " 11  Property_Area      362 non-null    object \n",
            "dtypes: float64(2), int64(3), object(7)\n",
            "memory usage: 34.1+ KB\n"
          ]
        }
      ],
      "source": [
        "test_df.info() # only for prediction"
      ]
    },
    {
      "cell_type": "code",
      "execution_count": null,
      "id": "224b9235",
      "metadata": {
        "id": "224b9235"
      },
      "outputs": [],
      "source": [
        "train_y = train_df['Loan_Status'].copy()"
      ]
    },
    {
      "cell_type": "code",
      "execution_count": null,
      "id": "7a251445",
      "metadata": {
        "id": "7a251445"
      },
      "outputs": [],
      "source": [
        "train_df.drop(columns = ['Loan_Status'],inplace=True)"
      ]
    },
    {
      "cell_type": "code",
      "execution_count": null,
      "id": "a339c788",
      "metadata": {
        "id": "a339c788",
        "outputId": "889d6a49-6525-4bd5-f84f-1cc94dee37ea"
      },
      "outputs": [
        {
          "name": "stdout",
          "output_type": "stream",
          "text": [
            "<class 'pandas.core.frame.DataFrame'>\n",
            "RangeIndex: 614 entries, 0 to 613\n",
            "Data columns (total 12 columns):\n",
            " #   Column             Non-Null Count  Dtype  \n",
            "---  ------             --------------  -----  \n",
            " 0   Loan_ID            614 non-null    object \n",
            " 1   Gender             601 non-null    object \n",
            " 2   Married            611 non-null    object \n",
            " 3   Dependents         599 non-null    object \n",
            " 4   Education          614 non-null    object \n",
            " 5   Self_Employed      582 non-null    object \n",
            " 6   ApplicantIncome    614 non-null    int64  \n",
            " 7   CoapplicantIncome  614 non-null    float64\n",
            " 8   LoanAmount         592 non-null    float64\n",
            " 9   Loan_Amount_Term   600 non-null    float64\n",
            " 10  Credit_History     564 non-null    float64\n",
            " 11  Property_Area      614 non-null    object \n",
            "dtypes: float64(4), int64(1), object(7)\n",
            "memory usage: 57.7+ KB\n"
          ]
        }
      ],
      "source": [
        "train_df.info()"
      ]
    },
    {
      "cell_type": "code",
      "execution_count": null,
      "id": "8bfbf265",
      "metadata": {
        "id": "8bfbf265"
      },
      "outputs": [],
      "source": [
        "# Dropping the unncessary columns\n",
        "train_df.drop(columns='Loan_ID',inplace=True)\n",
        "test_df.drop(columns='Loan_ID',inplace=True)"
      ]
    },
    {
      "cell_type": "code",
      "execution_count": null,
      "id": "ad05d07f",
      "metadata": {
        "id": "ad05d07f",
        "outputId": "2bfadae6-1021-49b7-e590-4ef8db9499a9"
      },
      "outputs": [
        {
          "data": {
            "text/plain": [
              "Index(['Gender', 'Married', 'Dependents', 'Education', 'Self_Employed',\n",
              "       'ApplicantIncome', 'CoapplicantIncome', 'LoanAmount',\n",
              "       'Loan_Amount_Term', 'Credit_History', 'Property_Area'],\n",
              "      dtype='object')"
            ]
          },
          "execution_count": 73,
          "metadata": {},
          "output_type": "execute_result"
        }
      ],
      "source": [
        "train_df.columns"
      ]
    },
    {
      "cell_type": "code",
      "execution_count": null,
      "id": "b7c3c961",
      "metadata": {
        "id": "b7c3c961",
        "outputId": "2e6c59d3-dd33-46f2-c1c6-4911f9501231"
      },
      "outputs": [
        {
          "data": {
            "text/html": [
              "<div>\n",
              "<style scoped>\n",
              "    .dataframe tbody tr th:only-of-type {\n",
              "        vertical-align: middle;\n",
              "    }\n",
              "\n",
              "    .dataframe tbody tr th {\n",
              "        vertical-align: top;\n",
              "    }\n",
              "\n",
              "    .dataframe thead th {\n",
              "        text-align: right;\n",
              "    }\n",
              "</style>\n",
              "<table border=\"1\" class=\"dataframe\">\n",
              "  <thead>\n",
              "    <tr style=\"text-align: right;\">\n",
              "      <th></th>\n",
              "      <th>Gender</th>\n",
              "      <th>Married</th>\n",
              "      <th>Dependents</th>\n",
              "      <th>Education</th>\n",
              "      <th>Self_Employed</th>\n",
              "      <th>ApplicantIncome</th>\n",
              "      <th>CoapplicantIncome</th>\n",
              "      <th>LoanAmount</th>\n",
              "      <th>Loan_Amount_Term</th>\n",
              "      <th>Credit_History</th>\n",
              "      <th>Property_Area</th>\n",
              "    </tr>\n",
              "  </thead>\n",
              "  <tbody>\n",
              "  </tbody>\n",
              "</table>\n",
              "</div>"
            ],
            "text/plain": [
              "Empty DataFrame\n",
              "Columns: [Gender, Married, Dependents, Education, Self_Employed, ApplicantIncome, CoapplicantIncome, LoanAmount, Loan_Amount_Term, Credit_History, Property_Area]\n",
              "Index: []"
            ]
          },
          "execution_count": 74,
          "metadata": {},
          "output_type": "execute_result"
        }
      ],
      "source": [
        "# Duplicates --> no duplicates\n",
        "train_df[train_df.duplicated()]"
      ]
    },
    {
      "cell_type": "code",
      "execution_count": null,
      "id": "0f2a8804",
      "metadata": {
        "id": "0f2a8804",
        "outputId": "60f9f52f-637a-46cd-a5e5-7a08a8aaa874"
      },
      "outputs": [
        {
          "data": {
            "text/html": [
              "<div>\n",
              "<style scoped>\n",
              "    .dataframe tbody tr th:only-of-type {\n",
              "        vertical-align: middle;\n",
              "    }\n",
              "\n",
              "    .dataframe tbody tr th {\n",
              "        vertical-align: top;\n",
              "    }\n",
              "\n",
              "    .dataframe thead th {\n",
              "        text-align: right;\n",
              "    }\n",
              "</style>\n",
              "<table border=\"1\" class=\"dataframe\">\n",
              "  <thead>\n",
              "    <tr style=\"text-align: right;\">\n",
              "      <th></th>\n",
              "      <th>Gender</th>\n",
              "      <th>Married</th>\n",
              "      <th>Dependents</th>\n",
              "      <th>Education</th>\n",
              "      <th>Self_Employed</th>\n",
              "      <th>ApplicantIncome</th>\n",
              "      <th>CoapplicantIncome</th>\n",
              "      <th>LoanAmount</th>\n",
              "      <th>Loan_Amount_Term</th>\n",
              "      <th>Credit_History</th>\n",
              "      <th>Property_Area</th>\n",
              "    </tr>\n",
              "  </thead>\n",
              "  <tbody>\n",
              "    <tr>\n",
              "      <th>192</th>\n",
              "      <td>Male</td>\n",
              "      <td>No</td>\n",
              "      <td>0</td>\n",
              "      <td>Graduate</td>\n",
              "      <td>Yes</td>\n",
              "      <td>5833</td>\n",
              "      <td>0</td>\n",
              "      <td>116</td>\n",
              "      <td>360.0</td>\n",
              "      <td>1.0</td>\n",
              "      <td>Urban</td>\n",
              "    </tr>\n",
              "  </tbody>\n",
              "</table>\n",
              "</div>"
            ],
            "text/plain": [
              "    Gender Married Dependents Education Self_Employed  ApplicantIncome  \\\n",
              "192   Male      No          0  Graduate           Yes             5833   \n",
              "\n",
              "     CoapplicantIncome  LoanAmount  Loan_Amount_Term  Credit_History  \\\n",
              "192                  0         116             360.0             1.0   \n",
              "\n",
              "    Property_Area  \n",
              "192         Urban  "
            ]
          },
          "execution_count": 75,
          "metadata": {},
          "output_type": "execute_result"
        }
      ],
      "source": [
        "test_df[test_df.duplicated()]"
      ]
    },
    {
      "cell_type": "code",
      "execution_count": null,
      "id": "cd2c91dc",
      "metadata": {
        "id": "cd2c91dc"
      },
      "outputs": [],
      "source": [
        "test_df.drop_duplicates(inplace=True)"
      ]
    },
    {
      "cell_type": "code",
      "execution_count": null,
      "id": "130aa6bb",
      "metadata": {
        "id": "130aa6bb",
        "outputId": "574013a8-debf-45d3-eaff-c1a65ee54a38"
      },
      "outputs": [
        {
          "data": {
            "text/html": [
              "<div>\n",
              "<style scoped>\n",
              "    .dataframe tbody tr th:only-of-type {\n",
              "        vertical-align: middle;\n",
              "    }\n",
              "\n",
              "    .dataframe tbody tr th {\n",
              "        vertical-align: top;\n",
              "    }\n",
              "\n",
              "    .dataframe thead th {\n",
              "        text-align: right;\n",
              "    }\n",
              "</style>\n",
              "<table border=\"1\" class=\"dataframe\">\n",
              "  <thead>\n",
              "    <tr style=\"text-align: right;\">\n",
              "      <th></th>\n",
              "      <th>Gender</th>\n",
              "      <th>Married</th>\n",
              "      <th>Dependents</th>\n",
              "      <th>Education</th>\n",
              "      <th>Self_Employed</th>\n",
              "      <th>ApplicantIncome</th>\n",
              "      <th>CoapplicantIncome</th>\n",
              "      <th>LoanAmount</th>\n",
              "      <th>Loan_Amount_Term</th>\n",
              "      <th>Credit_History</th>\n",
              "      <th>Property_Area</th>\n",
              "    </tr>\n",
              "  </thead>\n",
              "  <tbody>\n",
              "  </tbody>\n",
              "</table>\n",
              "</div>"
            ],
            "text/plain": [
              "Empty DataFrame\n",
              "Columns: [Gender, Married, Dependents, Education, Self_Employed, ApplicantIncome, CoapplicantIncome, LoanAmount, Loan_Amount_Term, Credit_History, Property_Area]\n",
              "Index: []"
            ]
          },
          "execution_count": 77,
          "metadata": {},
          "output_type": "execute_result"
        }
      ],
      "source": [
        "test_df[test_df.duplicated()]"
      ]
    },
    {
      "cell_type": "code",
      "execution_count": null,
      "id": "ccf8c4e7",
      "metadata": {
        "id": "ccf8c4e7",
        "outputId": "0c58c26d-6dc8-4f6d-c02d-e81872d62328"
      },
      "outputs": [
        {
          "data": {
            "text/plain": [
              "Gender               13\n",
              "Married               3\n",
              "Dependents           15\n",
              "Education             0\n",
              "Self_Employed        32\n",
              "ApplicantIncome       0\n",
              "CoapplicantIncome     0\n",
              "LoanAmount           22\n",
              "Loan_Amount_Term     14\n",
              "Credit_History       50\n",
              "Property_Area         0\n",
              "dtype: int64"
            ]
          },
          "execution_count": 78,
          "metadata": {},
          "output_type": "execute_result"
        }
      ],
      "source": [
        "# Missing Value analysis\n",
        "train_df.isna().sum()"
      ]
    },
    {
      "cell_type": "code",
      "execution_count": null,
      "id": "15e31ed5",
      "metadata": {
        "id": "15e31ed5",
        "outputId": "a1c2bb9b-be4f-4698-de2f-c5f0acf7a52a"
      },
      "outputs": [
        {
          "name": "stdout",
          "output_type": "stream",
          "text": [
            "<class 'pandas.core.frame.DataFrame'>\n",
            "RangeIndex: 614 entries, 0 to 613\n",
            "Data columns (total 11 columns):\n",
            " #   Column             Non-Null Count  Dtype  \n",
            "---  ------             --------------  -----  \n",
            " 0   Gender             601 non-null    object \n",
            " 1   Married            611 non-null    object \n",
            " 2   Dependents         599 non-null    object \n",
            " 3   Education          614 non-null    object \n",
            " 4   Self_Employed      582 non-null    object \n",
            " 5   ApplicantIncome    614 non-null    int64  \n",
            " 6   CoapplicantIncome  614 non-null    float64\n",
            " 7   LoanAmount         592 non-null    float64\n",
            " 8   Loan_Amount_Term   600 non-null    float64\n",
            " 9   Credit_History     564 non-null    float64\n",
            " 10  Property_Area      614 non-null    object \n",
            "dtypes: float64(4), int64(1), object(6)\n",
            "memory usage: 52.9+ KB\n"
          ]
        }
      ],
      "source": [
        "train_df.info()"
      ]
    },
    {
      "cell_type": "code",
      "execution_count": null,
      "id": "9ea5a84a",
      "metadata": {
        "id": "9ea5a84a",
        "outputId": "fe835be9-a569-4ef2-a2a9-fc98c8d41dab"
      },
      "outputs": [
        {
          "data": {
            "text/plain": [
              "Index(['Gender', 'Married', 'Dependents', 'Education', 'Self_Employed',\n",
              "       'ApplicantIncome', 'CoapplicantIncome', 'LoanAmount',\n",
              "       'Loan_Amount_Term', 'Credit_History', 'Property_Area'],\n",
              "      dtype='object')"
            ]
          },
          "execution_count": 80,
          "metadata": {},
          "output_type": "execute_result"
        }
      ],
      "source": [
        "train_df.columns"
      ]
    },
    {
      "cell_type": "code",
      "execution_count": null,
      "id": "7efd1943",
      "metadata": {
        "id": "7efd1943",
        "outputId": "50b2b3aa-2a2d-4166-820d-d531824e93b6"
      },
      "outputs": [
        {
          "data": {
            "text/plain": [
              "Gender                 2\n",
              "Married                2\n",
              "Dependents             4\n",
              "Education              2\n",
              "Self_Employed          2\n",
              "ApplicantIncome      505\n",
              "CoapplicantIncome    287\n",
              "LoanAmount           203\n",
              "Loan_Amount_Term      10\n",
              "Credit_History         2\n",
              "Property_Area          3\n",
              "dtype: int64"
            ]
          },
          "execution_count": 81,
          "metadata": {},
          "output_type": "execute_result"
        }
      ],
      "source": [
        "train_df.nunique()"
      ]
    },
    {
      "cell_type": "code",
      "execution_count": null,
      "id": "653397aa",
      "metadata": {
        "id": "653397aa"
      },
      "outputs": [],
      "source": [
        "# Numeric --> mean\n",
        "# Categorical --> mode\n",
        "\n",
        "num_cols = ['ApplicantIncome', 'CoapplicantIncome', 'LoanAmount',\n",
        "       'Loan_Amount_Term']\n",
        "\n",
        "cat_cols = ['Gender', 'Married', 'Dependents', 'Education', 'Self_Employed',\n",
        "           'Credit_History', 'Property_Area']"
      ]
    },
    {
      "cell_type": "code",
      "execution_count": null,
      "id": "7ad7c82a",
      "metadata": {
        "id": "7ad7c82a"
      },
      "outputs": [],
      "source": [
        "cat_imputer = SimpleImputer(strategy=\"most_frequent\")\n",
        "cat_imputer.fit(train_df[cat_cols])\n",
        "\n",
        "train_df[cat_cols] = cat_imputer.transform(train_df[cat_cols])\n",
        "test_df[cat_cols] = cat_imputer.transform(test_df[cat_cols])"
      ]
    },
    {
      "cell_type": "code",
      "execution_count": null,
      "id": "43a44102",
      "metadata": {
        "id": "43a44102"
      },
      "outputs": [],
      "source": [
        "num_imputer = SimpleImputer(strategy=\"mean\")\n",
        "num_imputer.fit(train_df[num_cols])\n",
        "\n",
        "train_df[num_cols] = num_imputer.transform(train_df[num_cols])\n",
        "test_df[num_cols] = num_imputer.transform(test_df[num_cols])"
      ]
    },
    {
      "cell_type": "code",
      "execution_count": null,
      "id": "3bad5cfa",
      "metadata": {
        "id": "3bad5cfa",
        "outputId": "71618497-27fb-4dac-86c9-ab5d04e966f4"
      },
      "outputs": [
        {
          "data": {
            "text/plain": [
              "Gender               0\n",
              "Married              0\n",
              "Dependents           0\n",
              "Education            0\n",
              "Self_Employed        0\n",
              "ApplicantIncome      0\n",
              "CoapplicantIncome    0\n",
              "LoanAmount           0\n",
              "Loan_Amount_Term     0\n",
              "Credit_History       0\n",
              "Property_Area        0\n",
              "dtype: int64"
            ]
          },
          "execution_count": 85,
          "metadata": {},
          "output_type": "execute_result"
        }
      ],
      "source": [
        "# Missing Value analysis\n",
        "train_df.isna().sum()"
      ]
    },
    {
      "cell_type": "code",
      "execution_count": null,
      "id": "7340ab0b",
      "metadata": {
        "id": "7340ab0b",
        "outputId": "51ea1d00-7a62-4d5d-97c8-0c6893233b2d"
      },
      "outputs": [
        {
          "data": {
            "text/html": [
              "<div>\n",
              "<style scoped>\n",
              "    .dataframe tbody tr th:only-of-type {\n",
              "        vertical-align: middle;\n",
              "    }\n",
              "\n",
              "    .dataframe tbody tr th {\n",
              "        vertical-align: top;\n",
              "    }\n",
              "\n",
              "    .dataframe thead th {\n",
              "        text-align: right;\n",
              "    }\n",
              "</style>\n",
              "<table border=\"1\" class=\"dataframe\">\n",
              "  <thead>\n",
              "    <tr style=\"text-align: right;\">\n",
              "      <th></th>\n",
              "      <th>Gender</th>\n",
              "      <th>Married</th>\n",
              "      <th>Dependents</th>\n",
              "      <th>Education</th>\n",
              "      <th>Self_Employed</th>\n",
              "      <th>ApplicantIncome</th>\n",
              "      <th>CoapplicantIncome</th>\n",
              "      <th>LoanAmount</th>\n",
              "      <th>Loan_Amount_Term</th>\n",
              "      <th>Credit_History</th>\n",
              "      <th>Property_Area</th>\n",
              "    </tr>\n",
              "  </thead>\n",
              "  <tbody>\n",
              "    <tr>\n",
              "      <th>0</th>\n",
              "      <td>Male</td>\n",
              "      <td>No</td>\n",
              "      <td>0</td>\n",
              "      <td>Graduate</td>\n",
              "      <td>No</td>\n",
              "      <td>5849.0</td>\n",
              "      <td>0.0</td>\n",
              "      <td>146.412162</td>\n",
              "      <td>360.0</td>\n",
              "      <td>1.0</td>\n",
              "      <td>Urban</td>\n",
              "    </tr>\n",
              "    <tr>\n",
              "      <th>1</th>\n",
              "      <td>Male</td>\n",
              "      <td>Yes</td>\n",
              "      <td>1</td>\n",
              "      <td>Graduate</td>\n",
              "      <td>No</td>\n",
              "      <td>4583.0</td>\n",
              "      <td>1508.0</td>\n",
              "      <td>128.000000</td>\n",
              "      <td>360.0</td>\n",
              "      <td>1.0</td>\n",
              "      <td>Rural</td>\n",
              "    </tr>\n",
              "    <tr>\n",
              "      <th>2</th>\n",
              "      <td>Male</td>\n",
              "      <td>Yes</td>\n",
              "      <td>0</td>\n",
              "      <td>Graduate</td>\n",
              "      <td>Yes</td>\n",
              "      <td>3000.0</td>\n",
              "      <td>0.0</td>\n",
              "      <td>66.000000</td>\n",
              "      <td>360.0</td>\n",
              "      <td>1.0</td>\n",
              "      <td>Urban</td>\n",
              "    </tr>\n",
              "    <tr>\n",
              "      <th>3</th>\n",
              "      <td>Male</td>\n",
              "      <td>Yes</td>\n",
              "      <td>0</td>\n",
              "      <td>Not Graduate</td>\n",
              "      <td>No</td>\n",
              "      <td>2583.0</td>\n",
              "      <td>2358.0</td>\n",
              "      <td>120.000000</td>\n",
              "      <td>360.0</td>\n",
              "      <td>1.0</td>\n",
              "      <td>Urban</td>\n",
              "    </tr>\n",
              "    <tr>\n",
              "      <th>4</th>\n",
              "      <td>Male</td>\n",
              "      <td>No</td>\n",
              "      <td>0</td>\n",
              "      <td>Graduate</td>\n",
              "      <td>No</td>\n",
              "      <td>6000.0</td>\n",
              "      <td>0.0</td>\n",
              "      <td>141.000000</td>\n",
              "      <td>360.0</td>\n",
              "      <td>1.0</td>\n",
              "      <td>Urban</td>\n",
              "    </tr>\n",
              "  </tbody>\n",
              "</table>\n",
              "</div>"
            ],
            "text/plain": [
              "  Gender Married Dependents     Education Self_Employed  ApplicantIncome  \\\n",
              "0   Male      No          0      Graduate            No           5849.0   \n",
              "1   Male     Yes          1      Graduate            No           4583.0   \n",
              "2   Male     Yes          0      Graduate           Yes           3000.0   \n",
              "3   Male     Yes          0  Not Graduate            No           2583.0   \n",
              "4   Male      No          0      Graduate            No           6000.0   \n",
              "\n",
              "   CoapplicantIncome  LoanAmount  Loan_Amount_Term Credit_History  \\\n",
              "0                0.0  146.412162             360.0            1.0   \n",
              "1             1508.0  128.000000             360.0            1.0   \n",
              "2                0.0   66.000000             360.0            1.0   \n",
              "3             2358.0  120.000000             360.0            1.0   \n",
              "4                0.0  141.000000             360.0            1.0   \n",
              "\n",
              "  Property_Area  \n",
              "0         Urban  \n",
              "1         Rural  \n",
              "2         Urban  \n",
              "3         Urban  \n",
              "4         Urban  "
            ]
          },
          "execution_count": 86,
          "metadata": {},
          "output_type": "execute_result"
        }
      ],
      "source": [
        "train_df.head()"
      ]
    },
    {
      "cell_type": "code",
      "execution_count": null,
      "id": "25d187e4",
      "metadata": {
        "id": "25d187e4"
      },
      "outputs": [],
      "source": [
        "# preprocessing as per the domain knowledge\n",
        "train_df['ApplicantIncome'] = train_df['ApplicantIncome'] + train_df['CoapplicantIncome']\n",
        "test_df['ApplicantIncome'] = test_df['ApplicantIncome'] + test_df['CoapplicantIncome']\n",
        "\n",
        "# drop the co-applicant income columne\n",
        "train_df.drop(columns='CoapplicantIncome',inplace=True)\n",
        "test_df.drop(columns='CoapplicantIncome',inplace=True)"
      ]
    },
    {
      "cell_type": "code",
      "execution_count": null,
      "id": "5ff5b52c",
      "metadata": {
        "id": "5ff5b52c",
        "outputId": "995169d0-75da-4772-b4fc-6d5075676596"
      },
      "outputs": [
        {
          "data": {
            "text/html": [
              "<div>\n",
              "<style scoped>\n",
              "    .dataframe tbody tr th:only-of-type {\n",
              "        vertical-align: middle;\n",
              "    }\n",
              "\n",
              "    .dataframe tbody tr th {\n",
              "        vertical-align: top;\n",
              "    }\n",
              "\n",
              "    .dataframe thead th {\n",
              "        text-align: right;\n",
              "    }\n",
              "</style>\n",
              "<table border=\"1\" class=\"dataframe\">\n",
              "  <thead>\n",
              "    <tr style=\"text-align: right;\">\n",
              "      <th></th>\n",
              "      <th>Gender</th>\n",
              "      <th>Married</th>\n",
              "      <th>Dependents</th>\n",
              "      <th>Education</th>\n",
              "      <th>Self_Employed</th>\n",
              "      <th>ApplicantIncome</th>\n",
              "      <th>LoanAmount</th>\n",
              "      <th>Loan_Amount_Term</th>\n",
              "      <th>Credit_History</th>\n",
              "      <th>Property_Area</th>\n",
              "    </tr>\n",
              "  </thead>\n",
              "  <tbody>\n",
              "    <tr>\n",
              "      <th>0</th>\n",
              "      <td>Male</td>\n",
              "      <td>No</td>\n",
              "      <td>0</td>\n",
              "      <td>Graduate</td>\n",
              "      <td>No</td>\n",
              "      <td>5849.0</td>\n",
              "      <td>146.412162</td>\n",
              "      <td>360.0</td>\n",
              "      <td>1.0</td>\n",
              "      <td>Urban</td>\n",
              "    </tr>\n",
              "    <tr>\n",
              "      <th>1</th>\n",
              "      <td>Male</td>\n",
              "      <td>Yes</td>\n",
              "      <td>1</td>\n",
              "      <td>Graduate</td>\n",
              "      <td>No</td>\n",
              "      <td>6091.0</td>\n",
              "      <td>128.000000</td>\n",
              "      <td>360.0</td>\n",
              "      <td>1.0</td>\n",
              "      <td>Rural</td>\n",
              "    </tr>\n",
              "    <tr>\n",
              "      <th>2</th>\n",
              "      <td>Male</td>\n",
              "      <td>Yes</td>\n",
              "      <td>0</td>\n",
              "      <td>Graduate</td>\n",
              "      <td>Yes</td>\n",
              "      <td>3000.0</td>\n",
              "      <td>66.000000</td>\n",
              "      <td>360.0</td>\n",
              "      <td>1.0</td>\n",
              "      <td>Urban</td>\n",
              "    </tr>\n",
              "    <tr>\n",
              "      <th>3</th>\n",
              "      <td>Male</td>\n",
              "      <td>Yes</td>\n",
              "      <td>0</td>\n",
              "      <td>Not Graduate</td>\n",
              "      <td>No</td>\n",
              "      <td>4941.0</td>\n",
              "      <td>120.000000</td>\n",
              "      <td>360.0</td>\n",
              "      <td>1.0</td>\n",
              "      <td>Urban</td>\n",
              "    </tr>\n",
              "    <tr>\n",
              "      <th>4</th>\n",
              "      <td>Male</td>\n",
              "      <td>No</td>\n",
              "      <td>0</td>\n",
              "      <td>Graduate</td>\n",
              "      <td>No</td>\n",
              "      <td>6000.0</td>\n",
              "      <td>141.000000</td>\n",
              "      <td>360.0</td>\n",
              "      <td>1.0</td>\n",
              "      <td>Urban</td>\n",
              "    </tr>\n",
              "  </tbody>\n",
              "</table>\n",
              "</div>"
            ],
            "text/plain": [
              "  Gender Married Dependents     Education Self_Employed  ApplicantIncome  \\\n",
              "0   Male      No          0      Graduate            No           5849.0   \n",
              "1   Male     Yes          1      Graduate            No           6091.0   \n",
              "2   Male     Yes          0      Graduate           Yes           3000.0   \n",
              "3   Male     Yes          0  Not Graduate            No           4941.0   \n",
              "4   Male      No          0      Graduate            No           6000.0   \n",
              "\n",
              "   LoanAmount  Loan_Amount_Term Credit_History Property_Area  \n",
              "0  146.412162             360.0            1.0         Urban  \n",
              "1  128.000000             360.0            1.0         Rural  \n",
              "2   66.000000             360.0            1.0         Urban  \n",
              "3  120.000000             360.0            1.0         Urban  \n",
              "4  141.000000             360.0            1.0         Urban  "
            ]
          },
          "execution_count": 88,
          "metadata": {},
          "output_type": "execute_result"
        }
      ],
      "source": [
        "train_df.head()"
      ]
    },
    {
      "cell_type": "code",
      "execution_count": null,
      "id": "137a04b1",
      "metadata": {
        "id": "137a04b1",
        "outputId": "1710ce48-d3d6-47ee-9129-841d266e6d4e"
      },
      "outputs": [
        {
          "data": {
            "text/plain": [
              "Gender                2\n",
              "Married               2\n",
              "Dependents            4\n",
              "Education             2\n",
              "Self_Employed         2\n",
              "ApplicantIncome     554\n",
              "LoanAmount          204\n",
              "Loan_Amount_Term     11\n",
              "Credit_History        2\n",
              "Property_Area         3\n",
              "dtype: int64"
            ]
          },
          "execution_count": 89,
          "metadata": {},
          "output_type": "execute_result"
        }
      ],
      "source": [
        "# Application of Label Encoder\n",
        "train_df.nunique()"
      ]
    },
    {
      "cell_type": "code",
      "execution_count": null,
      "id": "a33522dd",
      "metadata": {
        "id": "a33522dd",
        "outputId": "626632af-4090-4c66-dd40-604f60e2ac5e"
      },
      "outputs": [
        {
          "data": {
            "text/plain": [
              "array(['0', '1', '2', '3+'], dtype=object)"
            ]
          },
          "execution_count": 90,
          "metadata": {},
          "output_type": "execute_result"
        }
      ],
      "source": [
        "train_df.Dependents.unique() # Ordinal data --> label Encoder"
      ]
    },
    {
      "cell_type": "code",
      "execution_count": null,
      "id": "444f25cb",
      "metadata": {
        "id": "444f25cb",
        "outputId": "ebc52378-a093-40d4-dbe8-79f4c8e5c7df"
      },
      "outputs": [
        {
          "data": {
            "text/plain": [
              "array(['Urban', 'Rural', 'Semiurban'], dtype=object)"
            ]
          },
          "execution_count": 91,
          "metadata": {},
          "output_type": "execute_result"
        }
      ],
      "source": [
        "train_df.Property_Area.unique()"
      ]
    },
    {
      "cell_type": "code",
      "execution_count": null,
      "id": "61aef052",
      "metadata": {
        "id": "61aef052"
      },
      "outputs": [],
      "source": [
        "for col in cat_cols:\n",
        "    le = LabelEncoder()\n",
        "    train_df[col] = le.fit_transform(train_df[col])\n",
        "    test_df[col] = le.transform(test_df[col])"
      ]
    },
    {
      "cell_type": "code",
      "execution_count": null,
      "id": "ae37c336",
      "metadata": {
        "id": "ae37c336",
        "outputId": "faf850a7-d7ef-456d-aa06-c2f1d0e26d25"
      },
      "outputs": [
        {
          "data": {
            "text/html": [
              "<div>\n",
              "<style scoped>\n",
              "    .dataframe tbody tr th:only-of-type {\n",
              "        vertical-align: middle;\n",
              "    }\n",
              "\n",
              "    .dataframe tbody tr th {\n",
              "        vertical-align: top;\n",
              "    }\n",
              "\n",
              "    .dataframe thead th {\n",
              "        text-align: right;\n",
              "    }\n",
              "</style>\n",
              "<table border=\"1\" class=\"dataframe\">\n",
              "  <thead>\n",
              "    <tr style=\"text-align: right;\">\n",
              "      <th></th>\n",
              "      <th>Gender</th>\n",
              "      <th>Married</th>\n",
              "      <th>Dependents</th>\n",
              "      <th>Education</th>\n",
              "      <th>Self_Employed</th>\n",
              "      <th>ApplicantIncome</th>\n",
              "      <th>LoanAmount</th>\n",
              "      <th>Loan_Amount_Term</th>\n",
              "      <th>Credit_History</th>\n",
              "      <th>Property_Area</th>\n",
              "    </tr>\n",
              "  </thead>\n",
              "  <tbody>\n",
              "    <tr>\n",
              "      <th>0</th>\n",
              "      <td>1</td>\n",
              "      <td>0</td>\n",
              "      <td>0</td>\n",
              "      <td>0</td>\n",
              "      <td>0</td>\n",
              "      <td>5849.0</td>\n",
              "      <td>146.412162</td>\n",
              "      <td>360.0</td>\n",
              "      <td>1</td>\n",
              "      <td>2</td>\n",
              "    </tr>\n",
              "    <tr>\n",
              "      <th>1</th>\n",
              "      <td>1</td>\n",
              "      <td>1</td>\n",
              "      <td>1</td>\n",
              "      <td>0</td>\n",
              "      <td>0</td>\n",
              "      <td>6091.0</td>\n",
              "      <td>128.000000</td>\n",
              "      <td>360.0</td>\n",
              "      <td>1</td>\n",
              "      <td>0</td>\n",
              "    </tr>\n",
              "    <tr>\n",
              "      <th>2</th>\n",
              "      <td>1</td>\n",
              "      <td>1</td>\n",
              "      <td>0</td>\n",
              "      <td>0</td>\n",
              "      <td>1</td>\n",
              "      <td>3000.0</td>\n",
              "      <td>66.000000</td>\n",
              "      <td>360.0</td>\n",
              "      <td>1</td>\n",
              "      <td>2</td>\n",
              "    </tr>\n",
              "    <tr>\n",
              "      <th>3</th>\n",
              "      <td>1</td>\n",
              "      <td>1</td>\n",
              "      <td>0</td>\n",
              "      <td>1</td>\n",
              "      <td>0</td>\n",
              "      <td>4941.0</td>\n",
              "      <td>120.000000</td>\n",
              "      <td>360.0</td>\n",
              "      <td>1</td>\n",
              "      <td>2</td>\n",
              "    </tr>\n",
              "    <tr>\n",
              "      <th>4</th>\n",
              "      <td>1</td>\n",
              "      <td>0</td>\n",
              "      <td>0</td>\n",
              "      <td>0</td>\n",
              "      <td>0</td>\n",
              "      <td>6000.0</td>\n",
              "      <td>141.000000</td>\n",
              "      <td>360.0</td>\n",
              "      <td>1</td>\n",
              "      <td>2</td>\n",
              "    </tr>\n",
              "  </tbody>\n",
              "</table>\n",
              "</div>"
            ],
            "text/plain": [
              "   Gender  Married  Dependents  Education  Self_Employed  ApplicantIncome  \\\n",
              "0       1        0           0          0              0           5849.0   \n",
              "1       1        1           1          0              0           6091.0   \n",
              "2       1        1           0          0              1           3000.0   \n",
              "3       1        1           0          1              0           4941.0   \n",
              "4       1        0           0          0              0           6000.0   \n",
              "\n",
              "   LoanAmount  Loan_Amount_Term  Credit_History  Property_Area  \n",
              "0  146.412162             360.0               1              2  \n",
              "1  128.000000             360.0               1              0  \n",
              "2   66.000000             360.0               1              2  \n",
              "3  120.000000             360.0               1              2  \n",
              "4  141.000000             360.0               1              2  "
            ]
          },
          "execution_count": 93,
          "metadata": {},
          "output_type": "execute_result"
        }
      ],
      "source": [
        "train_df.head()"
      ]
    },
    {
      "cell_type": "code",
      "execution_count": null,
      "id": "c475b22c",
      "metadata": {
        "id": "c475b22c"
      },
      "outputs": [],
      "source": [
        "num_cols.remove('CoapplicantIncome')"
      ]
    },
    {
      "cell_type": "code",
      "execution_count": null,
      "id": "4a81987f-029b-4921-b49e-5130eb8c5817",
      "metadata": {
        "tags": [],
        "id": "4a81987f-029b-4921-b49e-5130eb8c5817",
        "outputId": "8828156d-9b93-4478-ecba-fd1986bd98da"
      },
      "outputs": [
        {
          "data": {
            "text/plain": [
              "['ApplicantIncome', 'LoanAmount', 'Loan_Amount_Term']"
            ]
          },
          "execution_count": 97,
          "metadata": {},
          "output_type": "execute_result"
        }
      ],
      "source": [
        "num_cols"
      ]
    },
    {
      "cell_type": "code",
      "execution_count": null,
      "id": "47be7420-b219-49d2-875f-aff859ebfbb3",
      "metadata": {
        "tags": [],
        "id": "47be7420-b219-49d2-875f-aff859ebfbb3",
        "outputId": "551dc56f-e8f4-4a0a-fb6e-1ee91000bbdd"
      },
      "outputs": [
        {
          "data": {
            "text/plain": [
              "['Gender',\n",
              " 'Married',\n",
              " 'Dependents',\n",
              " 'Education',\n",
              " 'Self_Employed',\n",
              " 'Credit_History',\n",
              " 'Property_Area']"
            ]
          },
          "execution_count": 98,
          "metadata": {},
          "output_type": "execute_result"
        }
      ],
      "source": [
        "cat_cols"
      ]
    },
    {
      "cell_type": "code",
      "execution_count": null,
      "id": "bbf41852-d2c7-428d-aa52-7610ea3980a5",
      "metadata": {
        "tags": [],
        "id": "bbf41852-d2c7-428d-aa52-7610ea3980a5",
        "outputId": "5d748263-e9ba-40d4-bc97-f2d4a552bbb3"
      },
      "outputs": [
        {
          "data": {
            "text/plain": [
              "['ApplicantIncome', 'LoanAmount', 'Loan_Amount_Term']"
            ]
          },
          "execution_count": 99,
          "metadata": {},
          "output_type": "execute_result"
        }
      ],
      "source": [
        "num_cols"
      ]
    },
    {
      "cell_type": "code",
      "execution_count": null,
      "id": "e92f658a",
      "metadata": {
        "id": "e92f658a"
      },
      "outputs": [],
      "source": [
        "# log transformation\n",
        "train_df[num_cols] = np.log(train_df[num_cols])\n",
        "test_df[num_cols] = np.log(test_df[num_cols])"
      ]
    },
    {
      "cell_type": "code",
      "execution_count": null,
      "id": "ad75e379-f147-4063-9ebd-3c6bf349dcd6",
      "metadata": {
        "tags": [],
        "id": "ad75e379-f147-4063-9ebd-3c6bf349dcd6",
        "outputId": "2764ecac-79b1-434f-f66d-c8e1d7efc890"
      },
      "outputs": [
        {
          "data": {
            "text/plain": [
              "Index(['Gender', 'Married', 'Dependents', 'Education', 'Self_Employed',\n",
              "       'ApplicantIncome', 'LoanAmount', 'Loan_Amount_Term', 'Credit_History',\n",
              "       'Property_Area'],\n",
              "      dtype='object')"
            ]
          },
          "execution_count": 96,
          "metadata": {},
          "output_type": "execute_result"
        }
      ],
      "source": [
        "train_df.columns"
      ]
    },
    {
      "cell_type": "code",
      "execution_count": null,
      "id": "390cf72d",
      "metadata": {
        "id": "390cf72d"
      },
      "outputs": [],
      "source": [
        "#scaling\n",
        "minmax = MinMaxScaler()\n",
        "train_df = minmax.fit_transform(train_df)\n",
        "test_df = minmax.transform(test_df)"
      ]
    },
    {
      "cell_type": "code",
      "execution_count": null,
      "id": "644b429c",
      "metadata": {
        "id": "644b429c"
      },
      "outputs": [],
      "source": [
        "# Building the Model\n",
        "from sklearn.model_selection import train_test_split\n",
        "\n",
        "X_train,X_test,y_train,y_test = train_test_split(train_df,train_y,test_size=0.3, random_state=0)"
      ]
    },
    {
      "cell_type": "code",
      "execution_count": null,
      "id": "93502af9",
      "metadata": {
        "id": "93502af9",
        "outputId": "9b27cb09-8c48-4c2e-b915-b8317eec34ed"
      },
      "outputs": [
        {
          "data": {
            "text/html": [
              "<style>#sk-container-id-1 {color: black;background-color: white;}#sk-container-id-1 pre{padding: 0;}#sk-container-id-1 div.sk-toggleable {background-color: white;}#sk-container-id-1 label.sk-toggleable__label {cursor: pointer;display: block;width: 100%;margin-bottom: 0;padding: 0.3em;box-sizing: border-box;text-align: center;}#sk-container-id-1 label.sk-toggleable__label-arrow:before {content: \"▸\";float: left;margin-right: 0.25em;color: #696969;}#sk-container-id-1 label.sk-toggleable__label-arrow:hover:before {color: black;}#sk-container-id-1 div.sk-estimator:hover label.sk-toggleable__label-arrow:before {color: black;}#sk-container-id-1 div.sk-toggleable__content {max-height: 0;max-width: 0;overflow: hidden;text-align: left;background-color: #f0f8ff;}#sk-container-id-1 div.sk-toggleable__content pre {margin: 0.2em;color: black;border-radius: 0.25em;background-color: #f0f8ff;}#sk-container-id-1 input.sk-toggleable__control:checked~div.sk-toggleable__content {max-height: 200px;max-width: 100%;overflow: auto;}#sk-container-id-1 input.sk-toggleable__control:checked~label.sk-toggleable__label-arrow:before {content: \"▾\";}#sk-container-id-1 div.sk-estimator input.sk-toggleable__control:checked~label.sk-toggleable__label {background-color: #d4ebff;}#sk-container-id-1 div.sk-label input.sk-toggleable__control:checked~label.sk-toggleable__label {background-color: #d4ebff;}#sk-container-id-1 input.sk-hidden--visually {border: 0;clip: rect(1px 1px 1px 1px);clip: rect(1px, 1px, 1px, 1px);height: 1px;margin: -1px;overflow: hidden;padding: 0;position: absolute;width: 1px;}#sk-container-id-1 div.sk-estimator {font-family: monospace;background-color: #f0f8ff;border: 1px dotted black;border-radius: 0.25em;box-sizing: border-box;margin-bottom: 0.5em;}#sk-container-id-1 div.sk-estimator:hover {background-color: #d4ebff;}#sk-container-id-1 div.sk-parallel-item::after {content: \"\";width: 100%;border-bottom: 1px solid gray;flex-grow: 1;}#sk-container-id-1 div.sk-label:hover label.sk-toggleable__label {background-color: #d4ebff;}#sk-container-id-1 div.sk-serial::before {content: \"\";position: absolute;border-left: 1px solid gray;box-sizing: border-box;top: 0;bottom: 0;left: 50%;z-index: 0;}#sk-container-id-1 div.sk-serial {display: flex;flex-direction: column;align-items: center;background-color: white;padding-right: 0.2em;padding-left: 0.2em;position: relative;}#sk-container-id-1 div.sk-item {position: relative;z-index: 1;}#sk-container-id-1 div.sk-parallel {display: flex;align-items: stretch;justify-content: center;background-color: white;position: relative;}#sk-container-id-1 div.sk-item::before, #sk-container-id-1 div.sk-parallel-item::before {content: \"\";position: absolute;border-left: 1px solid gray;box-sizing: border-box;top: 0;bottom: 0;left: 50%;z-index: -1;}#sk-container-id-1 div.sk-parallel-item {display: flex;flex-direction: column;z-index: 1;position: relative;background-color: white;}#sk-container-id-1 div.sk-parallel-item:first-child::after {align-self: flex-end;width: 50%;}#sk-container-id-1 div.sk-parallel-item:last-child::after {align-self: flex-start;width: 50%;}#sk-container-id-1 div.sk-parallel-item:only-child::after {width: 0;}#sk-container-id-1 div.sk-dashed-wrapped {border: 1px dashed gray;margin: 0 0.4em 0.5em 0.4em;box-sizing: border-box;padding-bottom: 0.4em;background-color: white;}#sk-container-id-1 div.sk-label label {font-family: monospace;font-weight: bold;display: inline-block;line-height: 1.2em;}#sk-container-id-1 div.sk-label-container {text-align: center;}#sk-container-id-1 div.sk-container {/* jupyter's `normalize.less` sets `[hidden] { display: none; }` but bootstrap.min.css set `[hidden] { display: none !important; }` so we also need the `!important` here to be able to override the default hidden behavior on the sphinx rendered scikit-learn.org. See: https://github.com/scikit-learn/scikit-learn/issues/21755 */display: inline-block !important;position: relative;}#sk-container-id-1 div.sk-text-repr-fallback {display: none;}</style><div id=\"sk-container-id-1\" class=\"sk-top-container\"><div class=\"sk-text-repr-fallback\"><pre>LogisticRegression()</pre><b>In a Jupyter environment, please rerun this cell to show the HTML representation or trust the notebook. <br />On GitHub, the HTML representation is unable to render, please try loading this page with nbviewer.org.</b></div><div class=\"sk-container\" hidden><div class=\"sk-item\"><div class=\"sk-estimator sk-toggleable\"><input class=\"sk-toggleable__control sk-hidden--visually\" id=\"sk-estimator-id-1\" type=\"checkbox\" checked><label for=\"sk-estimator-id-1\" class=\"sk-toggleable__label sk-toggleable__label-arrow\">LogisticRegression</label><div class=\"sk-toggleable__content\"><pre>LogisticRegression()</pre></div></div></div></div></div>"
            ],
            "text/plain": [
              "LogisticRegression()"
            ]
          },
          "execution_count": 37,
          "metadata": {},
          "output_type": "execute_result"
        }
      ],
      "source": [
        "from sklearn.linear_model import LogisticRegression\n",
        "log = LogisticRegression()\n",
        "log.fit(X_train,y_train)"
      ]
    },
    {
      "cell_type": "code",
      "execution_count": null,
      "id": "ea8d5209",
      "metadata": {
        "tags": [],
        "id": "ea8d5209"
      },
      "outputs": [],
      "source": [
        "y_pred_test = log.predict(X_test)"
      ]
    },
    {
      "cell_type": "code",
      "execution_count": null,
      "id": "d6078217",
      "metadata": {
        "id": "d6078217",
        "outputId": "4fa44482-e815-42eb-cd0d-418b9480cb4f"
      },
      "outputs": [
        {
          "name": "stdout",
          "output_type": "stream",
          "text": [
            "Accuracy is 0.827027027027027\n"
          ]
        }
      ],
      "source": [
        "from sklearn.metrics import accuracy_score\n",
        "acc = accuracy_score(y_test,y_pred_test)\n",
        "print(f\"Accuracy is {acc}\")"
      ]
    },
    {
      "cell_type": "markdown",
      "id": "dd3cdccb",
      "metadata": {
        "id": "dd3cdccb"
      },
      "source": [
        "# Serialization and Deserialization"
      ]
    },
    {
      "cell_type": "code",
      "execution_count": null,
      "id": "fd246127",
      "metadata": {
        "id": "fd246127",
        "outputId": "acbec3cb-ccd0-46b8-b295-6cf4821aa5c6"
      },
      "outputs": [
        {
          "data": {
            "text/plain": [
              "['my_trained_model_v1.pkl']"
            ]
          },
          "execution_count": 49,
          "metadata": {},
          "output_type": "execute_result"
        }
      ],
      "source": [
        "# serialization & deserialization\n",
        "import joblib\n",
        "joblib.dump(log,\"my_trained_model_v1.pkl\")"
      ]
    },
    {
      "cell_type": "code",
      "execution_count": null,
      "id": "103db6dd",
      "metadata": {
        "id": "103db6dd"
      },
      "outputs": [],
      "source": [
        "#deserialization\n",
        "final_model = joblib.load(\"my_trained_model_v1.pkl\")"
      ]
    },
    {
      "cell_type": "code",
      "execution_count": null,
      "id": "f445a5b5",
      "metadata": {
        "id": "f445a5b5",
        "outputId": "b77518c9-5b02-4011-e640-16cfd59d41fa"
      },
      "outputs": [
        {
          "data": {
            "text/plain": [
              "(array([-2.05782461]),\n",
              " array([[ 0.02382467,  0.35479553,  0.39528663, -0.442547  , -0.04913972,\n",
              "          0.04022649, -0.81819713,  0.23511056,  3.18026394,  0.22583306]]))"
            ]
          },
          "execution_count": 52,
          "metadata": {},
          "output_type": "execute_result"
        }
      ],
      "source": [
        "final_model.intercept_, final_model.coef_"
      ]
    },
    {
      "cell_type": "code",
      "execution_count": null,
      "id": "e8dd16c0",
      "metadata": {
        "id": "e8dd16c0",
        "outputId": "b9135d0d-29e2-4c2a-f887-1f69e240468d"
      },
      "outputs": [
        {
          "data": {
            "text/plain": [
              "(array([-2.05782461]),\n",
              " array([[ 0.02382467,  0.35479553,  0.39528663, -0.442547  , -0.04913972,\n",
              "          0.04022649, -0.81819713,  0.23511056,  3.18026394,  0.22583306]]))"
            ]
          },
          "execution_count": 53,
          "metadata": {},
          "output_type": "execute_result"
        }
      ],
      "source": [
        "log.intercept_, log.coef_"
      ]
    },
    {
      "cell_type": "markdown",
      "id": "192493dd",
      "metadata": {
        "id": "192493dd"
      },
      "source": [
        "## Package and Modules"
      ]
    },
    {
      "cell_type": "code",
      "execution_count": null,
      "id": "4f333f7b",
      "metadata": {
        "tags": [],
        "id": "4f333f7b"
      },
      "outputs": [],
      "source": [
        "import PackageA"
      ]
    },
    {
      "cell_type": "code",
      "execution_count": null,
      "id": "b39b2c83",
      "metadata": {
        "tags": [],
        "id": "b39b2c83"
      },
      "outputs": [],
      "source": [
        "from PackageA import f1"
      ]
    },
    {
      "cell_type": "code",
      "execution_count": null,
      "id": "dfffeca7",
      "metadata": {
        "tags": [],
        "id": "dfffeca7",
        "outputId": "89fc2042-b6cc-4ea7-ddfb-b20d3badd534"
      },
      "outputs": [
        {
          "data": {
            "text/plain": [
              "'output from f1'"
            ]
          },
          "execution_count": 41,
          "metadata": {},
          "output_type": "execute_result"
        }
      ],
      "source": [
        "f1.print_something()"
      ]
    },
    {
      "cell_type": "code",
      "execution_count": null,
      "id": "c88cc790",
      "metadata": {
        "tags": [],
        "id": "c88cc790"
      },
      "outputs": [],
      "source": [
        "from PackageA import f2"
      ]
    },
    {
      "cell_type": "code",
      "execution_count": null,
      "id": "c9f52ced",
      "metadata": {
        "tags": [],
        "id": "c9f52ced",
        "outputId": "62796a18-7f1e-420e-af8e-27a09c6aab3d"
      },
      "outputs": [
        {
          "data": {
            "text/plain": [
              "'output from f2'"
            ]
          },
          "execution_count": 43,
          "metadata": {},
          "output_type": "execute_result"
        }
      ],
      "source": [
        "f2.print_something()"
      ]
    },
    {
      "cell_type": "code",
      "execution_count": null,
      "id": "627e96f8",
      "metadata": {
        "tags": [],
        "id": "627e96f8"
      },
      "outputs": [],
      "source": [
        "from PackageA.f1 import print_something as f1p"
      ]
    },
    {
      "cell_type": "code",
      "execution_count": null,
      "id": "fba4826d",
      "metadata": {
        "tags": [],
        "id": "fba4826d",
        "outputId": "e80bd55b-733a-488a-c3c2-44ba345de0cd"
      },
      "outputs": [
        {
          "data": {
            "text/plain": [
              "'output from f1'"
            ]
          },
          "execution_count": 45,
          "metadata": {},
          "output_type": "execute_result"
        }
      ],
      "source": [
        "f1p()"
      ]
    },
    {
      "cell_type": "code",
      "execution_count": null,
      "id": "eb0920bd",
      "metadata": {
        "tags": [],
        "id": "eb0920bd"
      },
      "outputs": [],
      "source": [
        "from PackageA.SubPackageA import f3"
      ]
    },
    {
      "cell_type": "code",
      "execution_count": null,
      "id": "322f307d",
      "metadata": {
        "tags": [],
        "id": "322f307d",
        "outputId": "21613469-4b80-4b84-d62d-0319aabc0e2d"
      },
      "outputs": [
        {
          "data": {
            "text/plain": [
              "'output from f3'"
            ]
          },
          "execution_count": 47,
          "metadata": {},
          "output_type": "execute_result"
        }
      ],
      "source": [
        "f3.print_something()"
      ]
    },
    {
      "cell_type": "code",
      "execution_count": null,
      "id": "c04fc67f",
      "metadata": {
        "tags": [],
        "id": "c04fc67f",
        "outputId": "9f68ea46-35b0-40bf-9b54-2765856b944d"
      },
      "outputs": [
        {
          "data": {
            "text/plain": [
              "'output from f5'"
            ]
          },
          "execution_count": 48,
          "metadata": {},
          "output_type": "execute_result"
        }
      ],
      "source": [
        "from PackageA.SubPackageB import f5\n",
        "f5.print_something()"
      ]
    },
    {
      "cell_type": "markdown",
      "id": "f3ff107d",
      "metadata": {
        "id": "f3ff107d"
      },
      "source": [
        "# Adding the System Path"
      ]
    },
    {
      "cell_type": "code",
      "execution_count": null,
      "id": "e1e95018",
      "metadata": {
        "tags": [],
        "id": "e1e95018"
      },
      "outputs": [],
      "source": [
        "import sys"
      ]
    },
    {
      "cell_type": "code",
      "execution_count": null,
      "id": "03964fd1",
      "metadata": {
        "tags": [],
        "id": "03964fd1",
        "outputId": "9b02808a-763f-4392-8b30-fd5831596eae"
      },
      "outputs": [
        {
          "data": {
            "text/plain": [
              "['/Users/nachiketh/Desktop/author-repo/Complete-MLOps-BootCamp/Packaging-ML-Model/Experiments',\n",
              " '/Users/nachiketh/anaconda3/lib/python311.zip',\n",
              " '/Users/nachiketh/anaconda3/lib/python3.11',\n",
              " '/Users/nachiketh/anaconda3/lib/python3.11/lib-dynload',\n",
              " '',\n",
              " '/Users/nachiketh/anaconda3/lib/python3.11/site-packages',\n",
              " '/Users/nachiketh/anaconda3/lib/python3.11/site-packages/aeosa']"
            ]
          },
          "execution_count": 50,
          "metadata": {},
          "output_type": "execute_result"
        }
      ],
      "source": [
        "sys.path"
      ]
    },
    {
      "cell_type": "code",
      "execution_count": null,
      "id": "45e0c4fc",
      "metadata": {
        "tags": [],
        "id": "45e0c4fc"
      },
      "outputs": [],
      "source": [
        "sys.path.append('/Users/nachiketh/Desktop/') # mac or linux"
      ]
    },
    {
      "cell_type": "code",
      "execution_count": null,
      "id": "236715c3",
      "metadata": {
        "tags": [],
        "id": "236715c3"
      },
      "outputs": [],
      "source": [
        "#sys.path.append('C:\\\\path\\\\to\\\\dir') # windows"
      ]
    },
    {
      "cell_type": "markdown",
      "id": "c3ef1278-365f-4880-abf8-af3ce97a232c",
      "metadata": {
        "id": "c3ef1278-365f-4880-abf8-af3ce97a232c"
      },
      "source": [
        "#  Getting the Parent Directory"
      ]
    },
    {
      "cell_type": "code",
      "execution_count": null,
      "id": "03f7522a-a711-41d9-baeb-67597aba0656",
      "metadata": {
        "tags": [],
        "id": "03f7522a-a711-41d9-baeb-67597aba0656"
      },
      "outputs": [],
      "source": [
        "import PackageA"
      ]
    },
    {
      "cell_type": "code",
      "execution_count": null,
      "id": "6c9682a8-c37e-4c3b-81a7-be2d5552656f",
      "metadata": {
        "tags": [],
        "id": "6c9682a8-c37e-4c3b-81a7-be2d5552656f",
        "outputId": "6bc91667-fdb4-4128-a3b3-4c5173d12a98"
      },
      "outputs": [
        {
          "data": {
            "text/plain": [
              "'/Users/nachiketh/Desktop/author-repo/Complete-MLOps-BootCamp/Packaging-ML-Model/Experiments/PackageA/__init__.py'"
            ]
          },
          "execution_count": 59,
          "metadata": {},
          "output_type": "execute_result"
        }
      ],
      "source": [
        "PackageA.__file__"
      ]
    },
    {
      "cell_type": "code",
      "execution_count": null,
      "id": "14f09843-6d08-4236-8466-e88cb42e787d",
      "metadata": {
        "tags": [],
        "id": "14f09843-6d08-4236-8466-e88cb42e787d",
        "outputId": "379d0ae0-319c-4e13-ef39-5cb001cb2935"
      },
      "outputs": [
        {
          "data": {
            "text/plain": [
              "PosixPath('/Users/nachiketh/Desktop/author-repo/Complete-MLOps-BootCamp/Packaging-ML-Model/Experiments/PackageA')"
            ]
          },
          "execution_count": 60,
          "metadata": {},
          "output_type": "execute_result"
        }
      ],
      "source": [
        "import pathlib\n",
        "pathlib.Path(PackageA.__file__).resolve().parent"
      ]
    },
    {
      "cell_type": "markdown",
      "id": "f849caf8-4f06-4835-91c0-e2ac26f708f4",
      "metadata": {
        "tags": [],
        "id": "f849caf8-4f06-4835-91c0-e2ac26f708f4"
      },
      "source": [
        "# Create Custom Data Transformers"
      ]
    },
    {
      "cell_type": "code",
      "execution_count": null,
      "id": "0378e707-a39d-491c-87b0-c782042c69ec",
      "metadata": {
        "id": "0378e707-a39d-491c-87b0-c782042c69ec"
      },
      "outputs": [],
      "source": [
        "# Key thing --> Inherit - BaseEstimator, TransformerMixin\n",
        "# implement fit and transform\n",
        "# accept input with __init__ method\n",
        "\n",
        "from sklearn.base import BaseEstimator,TransformerMixin\n",
        "\n",
        "class DemoTransformer(BaseEstimator,TransformerMixin):\n",
        "    def __init__(self):\n",
        "        pass\n",
        "\n",
        "    def fit(self,X,y=None):\n",
        "        return self\n",
        "\n",
        "    def transform(self,X):\n",
        "        return X"
      ]
    },
    {
      "cell_type": "code",
      "execution_count": null,
      "id": "d920ba95-7912-416f-8f77-d0d33347d70a",
      "metadata": {
        "tags": [],
        "id": "d920ba95-7912-416f-8f77-d0d33347d70a"
      },
      "outputs": [],
      "source": [
        "# Numerical Imputation - mean\n",
        "from sklearn.base import BaseEstimator,TransformerMixin\n",
        "\n",
        "class MeanImputer(BaseEstimator,TransformerMixin):\n",
        "    def __init__(self,variables=None):\n",
        "        self.variables = variables\n",
        "\n",
        "    def fit(self,X,y=None):\n",
        "        self.mean_dict = {}\n",
        "        for col in self.variables:\n",
        "            self.mean_dict[col] = X[col].mean()\n",
        "        return self\n",
        "\n",
        "    def transform(self,X):\n",
        "        X = X.copy()\n",
        "        for col in self.variables:\n",
        "            X[col].fillna(self.mean_dict[col],inplace=True)\n",
        "        return X"
      ]
    },
    {
      "cell_type": "code",
      "execution_count": null,
      "id": "eda76421-c0ac-4f6a-89a0-070b45553269",
      "metadata": {
        "tags": [],
        "id": "eda76421-c0ac-4f6a-89a0-070b45553269",
        "outputId": "eb9141e0-eb39-4be7-dc7a-566ee71e0bb5"
      },
      "outputs": [
        {
          "data": {
            "text/html": [
              "<div>\n",
              "<style scoped>\n",
              "    .dataframe tbody tr th:only-of-type {\n",
              "        vertical-align: middle;\n",
              "    }\n",
              "\n",
              "    .dataframe tbody tr th {\n",
              "        vertical-align: top;\n",
              "    }\n",
              "\n",
              "    .dataframe thead th {\n",
              "        text-align: right;\n",
              "    }\n",
              "</style>\n",
              "<table border=\"1\" class=\"dataframe\">\n",
              "  <thead>\n",
              "    <tr style=\"text-align: right;\">\n",
              "      <th></th>\n",
              "      <th>A</th>\n",
              "      <th>B</th>\n",
              "    </tr>\n",
              "  </thead>\n",
              "  <tbody>\n",
              "    <tr>\n",
              "      <th>0</th>\n",
              "      <td>44.0</td>\n",
              "      <td>47.0</td>\n",
              "    </tr>\n",
              "    <tr>\n",
              "      <th>1</th>\n",
              "      <td>NaN</td>\n",
              "      <td>67.0</td>\n",
              "    </tr>\n",
              "    <tr>\n",
              "      <th>2</th>\n",
              "      <td>67.0</td>\n",
              "      <td>NaN</td>\n",
              "    </tr>\n",
              "    <tr>\n",
              "      <th>3</th>\n",
              "      <td>83.0</td>\n",
              "      <td>NaN</td>\n",
              "    </tr>\n",
              "    <tr>\n",
              "      <th>4</th>\n",
              "      <td>NaN</td>\n",
              "      <td>87.0</td>\n",
              "    </tr>\n",
              "    <tr>\n",
              "      <th>5</th>\n",
              "      <td>70.0</td>\n",
              "      <td>88.0</td>\n",
              "    </tr>\n",
              "    <tr>\n",
              "      <th>6</th>\n",
              "      <td>88.0</td>\n",
              "      <td>12.0</td>\n",
              "    </tr>\n",
              "    <tr>\n",
              "      <th>7</th>\n",
              "      <td>58.0</td>\n",
              "      <td>65.0</td>\n",
              "    </tr>\n",
              "    <tr>\n",
              "      <th>8</th>\n",
              "      <td>39.0</td>\n",
              "      <td>87.0</td>\n",
              "    </tr>\n",
              "    <tr>\n",
              "      <th>9</th>\n",
              "      <td>46.0</td>\n",
              "      <td>88.0</td>\n",
              "    </tr>\n",
              "  </tbody>\n",
              "</table>\n",
              "</div>"
            ],
            "text/plain": [
              "      A     B\n",
              "0  44.0  47.0\n",
              "1   NaN  67.0\n",
              "2  67.0   NaN\n",
              "3  83.0   NaN\n",
              "4   NaN  87.0\n",
              "5  70.0  88.0\n",
              "6  88.0  12.0\n",
              "7  58.0  65.0\n",
              "8  39.0  87.0\n",
              "9  46.0  88.0"
            ]
          },
          "execution_count": 104,
          "metadata": {},
          "output_type": "execute_result"
        }
      ],
      "source": [
        "np.random.seed(0)\n",
        "df = pd.DataFrame(np.random.randint(0,100,(10,2)),columns=[\"A\",'B'])\n",
        "df.iloc[1,0] = np.nan\n",
        "df.iloc[2,1] = np.nan\n",
        "df.iloc[3,1] = np.nan\n",
        "df.iloc[4,0] = np.nan\n",
        "df"
      ]
    },
    {
      "cell_type": "code",
      "execution_count": null,
      "id": "6a4f4c19-497e-404b-8109-b6f3865f5661",
      "metadata": {
        "tags": [],
        "id": "6a4f4c19-497e-404b-8109-b6f3865f5661"
      },
      "outputs": [],
      "source": [
        "mean_imputer = MeanImputer(variables=[\"A\",'B'])"
      ]
    },
    {
      "cell_type": "code",
      "execution_count": null,
      "id": "023c95fd-bb8c-4cf7-bbb9-defd4bd30625",
      "metadata": {
        "tags": [],
        "id": "023c95fd-bb8c-4cf7-bbb9-defd4bd30625",
        "outputId": "0dcd7b6f-c37b-4a1b-ebbc-cfecb89a846d"
      },
      "outputs": [
        {
          "data": {
            "text/html": [
              "<style>#sk-container-id-2 {color: black;background-color: white;}#sk-container-id-2 pre{padding: 0;}#sk-container-id-2 div.sk-toggleable {background-color: white;}#sk-container-id-2 label.sk-toggleable__label {cursor: pointer;display: block;width: 100%;margin-bottom: 0;padding: 0.3em;box-sizing: border-box;text-align: center;}#sk-container-id-2 label.sk-toggleable__label-arrow:before {content: \"▸\";float: left;margin-right: 0.25em;color: #696969;}#sk-container-id-2 label.sk-toggleable__label-arrow:hover:before {color: black;}#sk-container-id-2 div.sk-estimator:hover label.sk-toggleable__label-arrow:before {color: black;}#sk-container-id-2 div.sk-toggleable__content {max-height: 0;max-width: 0;overflow: hidden;text-align: left;background-color: #f0f8ff;}#sk-container-id-2 div.sk-toggleable__content pre {margin: 0.2em;color: black;border-radius: 0.25em;background-color: #f0f8ff;}#sk-container-id-2 input.sk-toggleable__control:checked~div.sk-toggleable__content {max-height: 200px;max-width: 100%;overflow: auto;}#sk-container-id-2 input.sk-toggleable__control:checked~label.sk-toggleable__label-arrow:before {content: \"▾\";}#sk-container-id-2 div.sk-estimator input.sk-toggleable__control:checked~label.sk-toggleable__label {background-color: #d4ebff;}#sk-container-id-2 div.sk-label input.sk-toggleable__control:checked~label.sk-toggleable__label {background-color: #d4ebff;}#sk-container-id-2 input.sk-hidden--visually {border: 0;clip: rect(1px 1px 1px 1px);clip: rect(1px, 1px, 1px, 1px);height: 1px;margin: -1px;overflow: hidden;padding: 0;position: absolute;width: 1px;}#sk-container-id-2 div.sk-estimator {font-family: monospace;background-color: #f0f8ff;border: 1px dotted black;border-radius: 0.25em;box-sizing: border-box;margin-bottom: 0.5em;}#sk-container-id-2 div.sk-estimator:hover {background-color: #d4ebff;}#sk-container-id-2 div.sk-parallel-item::after {content: \"\";width: 100%;border-bottom: 1px solid gray;flex-grow: 1;}#sk-container-id-2 div.sk-label:hover label.sk-toggleable__label {background-color: #d4ebff;}#sk-container-id-2 div.sk-serial::before {content: \"\";position: absolute;border-left: 1px solid gray;box-sizing: border-box;top: 0;bottom: 0;left: 50%;z-index: 0;}#sk-container-id-2 div.sk-serial {display: flex;flex-direction: column;align-items: center;background-color: white;padding-right: 0.2em;padding-left: 0.2em;position: relative;}#sk-container-id-2 div.sk-item {position: relative;z-index: 1;}#sk-container-id-2 div.sk-parallel {display: flex;align-items: stretch;justify-content: center;background-color: white;position: relative;}#sk-container-id-2 div.sk-item::before, #sk-container-id-2 div.sk-parallel-item::before {content: \"\";position: absolute;border-left: 1px solid gray;box-sizing: border-box;top: 0;bottom: 0;left: 50%;z-index: -1;}#sk-container-id-2 div.sk-parallel-item {display: flex;flex-direction: column;z-index: 1;position: relative;background-color: white;}#sk-container-id-2 div.sk-parallel-item:first-child::after {align-self: flex-end;width: 50%;}#sk-container-id-2 div.sk-parallel-item:last-child::after {align-self: flex-start;width: 50%;}#sk-container-id-2 div.sk-parallel-item:only-child::after {width: 0;}#sk-container-id-2 div.sk-dashed-wrapped {border: 1px dashed gray;margin: 0 0.4em 0.5em 0.4em;box-sizing: border-box;padding-bottom: 0.4em;background-color: white;}#sk-container-id-2 div.sk-label label {font-family: monospace;font-weight: bold;display: inline-block;line-height: 1.2em;}#sk-container-id-2 div.sk-label-container {text-align: center;}#sk-container-id-2 div.sk-container {/* jupyter's `normalize.less` sets `[hidden] { display: none; }` but bootstrap.min.css set `[hidden] { display: none !important; }` so we also need the `!important` here to be able to override the default hidden behavior on the sphinx rendered scikit-learn.org. See: https://github.com/scikit-learn/scikit-learn/issues/21755 */display: inline-block !important;position: relative;}#sk-container-id-2 div.sk-text-repr-fallback {display: none;}</style><div id=\"sk-container-id-2\" class=\"sk-top-container\"><div class=\"sk-text-repr-fallback\"><pre>MeanImputer(variables=[&#x27;A&#x27;, &#x27;B&#x27;])</pre><b>In a Jupyter environment, please rerun this cell to show the HTML representation or trust the notebook. <br />On GitHub, the HTML representation is unable to render, please try loading this page with nbviewer.org.</b></div><div class=\"sk-container\" hidden><div class=\"sk-item\"><div class=\"sk-estimator sk-toggleable\"><input class=\"sk-toggleable__control sk-hidden--visually\" id=\"sk-estimator-id-2\" type=\"checkbox\" checked><label for=\"sk-estimator-id-2\" class=\"sk-toggleable__label sk-toggleable__label-arrow\">MeanImputer</label><div class=\"sk-toggleable__content\"><pre>MeanImputer(variables=[&#x27;A&#x27;, &#x27;B&#x27;])</pre></div></div></div></div></div>"
            ],
            "text/plain": [
              "MeanImputer(variables=['A', 'B'])"
            ]
          },
          "execution_count": 106,
          "metadata": {},
          "output_type": "execute_result"
        }
      ],
      "source": [
        "mean_imputer.fit(df)"
      ]
    },
    {
      "cell_type": "code",
      "execution_count": null,
      "id": "50c3bcb5-5c15-4d5d-8c4d-e2408e69b8f4",
      "metadata": {
        "tags": [],
        "id": "50c3bcb5-5c15-4d5d-8c4d-e2408e69b8f4",
        "outputId": "00b38cba-8fef-4479-b230-94021ed65c3b"
      },
      "outputs": [
        {
          "data": {
            "text/plain": [
              "{'A': 61.875, 'B': 67.625}"
            ]
          },
          "execution_count": 107,
          "metadata": {},
          "output_type": "execute_result"
        }
      ],
      "source": [
        "mean_imputer.mean_dict"
      ]
    },
    {
      "cell_type": "code",
      "execution_count": null,
      "id": "b4b52971-7e18-4709-8ba3-e98be97b05bf",
      "metadata": {
        "tags": [],
        "id": "b4b52971-7e18-4709-8ba3-e98be97b05bf",
        "outputId": "b022cfc1-fcd9-483c-9ef7-7eab1e78024b"
      },
      "outputs": [
        {
          "data": {
            "text/plain": [
              "A    61.875\n",
              "B    67.625\n",
              "dtype: float64"
            ]
          },
          "execution_count": 108,
          "metadata": {},
          "output_type": "execute_result"
        }
      ],
      "source": [
        "df.mean()"
      ]
    },
    {
      "cell_type": "code",
      "execution_count": null,
      "id": "3dbf3bf3-2c1c-4052-9f1f-1579a8f7a3e2",
      "metadata": {
        "tags": [],
        "id": "3dbf3bf3-2c1c-4052-9f1f-1579a8f7a3e2",
        "outputId": "812ce229-8ae6-4f44-d05a-469a9d10ce04"
      },
      "outputs": [
        {
          "data": {
            "text/html": [
              "<div>\n",
              "<style scoped>\n",
              "    .dataframe tbody tr th:only-of-type {\n",
              "        vertical-align: middle;\n",
              "    }\n",
              "\n",
              "    .dataframe tbody tr th {\n",
              "        vertical-align: top;\n",
              "    }\n",
              "\n",
              "    .dataframe thead th {\n",
              "        text-align: right;\n",
              "    }\n",
              "</style>\n",
              "<table border=\"1\" class=\"dataframe\">\n",
              "  <thead>\n",
              "    <tr style=\"text-align: right;\">\n",
              "      <th></th>\n",
              "      <th>A</th>\n",
              "      <th>B</th>\n",
              "    </tr>\n",
              "  </thead>\n",
              "  <tbody>\n",
              "    <tr>\n",
              "      <th>0</th>\n",
              "      <td>44.000</td>\n",
              "      <td>47.000</td>\n",
              "    </tr>\n",
              "    <tr>\n",
              "      <th>1</th>\n",
              "      <td>61.875</td>\n",
              "      <td>67.000</td>\n",
              "    </tr>\n",
              "    <tr>\n",
              "      <th>2</th>\n",
              "      <td>67.000</td>\n",
              "      <td>67.625</td>\n",
              "    </tr>\n",
              "    <tr>\n",
              "      <th>3</th>\n",
              "      <td>83.000</td>\n",
              "      <td>67.625</td>\n",
              "    </tr>\n",
              "    <tr>\n",
              "      <th>4</th>\n",
              "      <td>61.875</td>\n",
              "      <td>87.000</td>\n",
              "    </tr>\n",
              "    <tr>\n",
              "      <th>5</th>\n",
              "      <td>70.000</td>\n",
              "      <td>88.000</td>\n",
              "    </tr>\n",
              "    <tr>\n",
              "      <th>6</th>\n",
              "      <td>88.000</td>\n",
              "      <td>12.000</td>\n",
              "    </tr>\n",
              "    <tr>\n",
              "      <th>7</th>\n",
              "      <td>58.000</td>\n",
              "      <td>65.000</td>\n",
              "    </tr>\n",
              "    <tr>\n",
              "      <th>8</th>\n",
              "      <td>39.000</td>\n",
              "      <td>87.000</td>\n",
              "    </tr>\n",
              "    <tr>\n",
              "      <th>9</th>\n",
              "      <td>46.000</td>\n",
              "      <td>88.000</td>\n",
              "    </tr>\n",
              "  </tbody>\n",
              "</table>\n",
              "</div>"
            ],
            "text/plain": [
              "        A       B\n",
              "0  44.000  47.000\n",
              "1  61.875  67.000\n",
              "2  67.000  67.625\n",
              "3  83.000  67.625\n",
              "4  61.875  87.000\n",
              "5  70.000  88.000\n",
              "6  88.000  12.000\n",
              "7  58.000  65.000\n",
              "8  39.000  87.000\n",
              "9  46.000  88.000"
            ]
          },
          "execution_count": 109,
          "metadata": {},
          "output_type": "execute_result"
        }
      ],
      "source": [
        "mean_imputer.transform(df)"
      ]
    },
    {
      "cell_type": "code",
      "execution_count": null,
      "id": "ac4859de-198a-42df-9ba7-8583542a2883",
      "metadata": {
        "tags": [],
        "id": "ac4859de-198a-42df-9ba7-8583542a2883",
        "outputId": "8657684e-cb95-4f43-bf9f-efd210edc468"
      },
      "outputs": [
        {
          "data": {
            "text/plain": [
              "'1.24.3'"
            ]
          },
          "execution_count": 1,
          "metadata": {},
          "output_type": "execute_result"
        }
      ],
      "source": [
        "import numpy\n",
        "numpy.__version__"
      ]
    },
    {
      "cell_type": "code",
      "execution_count": null,
      "id": "e63d15b6-c2d9-4719-a8f9-2e281b035624",
      "metadata": {
        "tags": [],
        "id": "e63d15b6-c2d9-4719-a8f9-2e281b035624",
        "outputId": "e7fc2441-f485-4bad-baa8-8931c1f0b701"
      },
      "outputs": [
        {
          "data": {
            "text/plain": [
              "'1.5.3'"
            ]
          },
          "execution_count": 2,
          "metadata": {},
          "output_type": "execute_result"
        }
      ],
      "source": [
        "import pandas as pd\n",
        "pd.__version__"
      ]
    },
    {
      "cell_type": "code",
      "execution_count": null,
      "id": "96d3087f-51da-42f6-86d4-a0d8a98ab161",
      "metadata": {
        "tags": [],
        "id": "96d3087f-51da-42f6-86d4-a0d8a98ab161",
        "outputId": "53d23e39-5958-4e07-ef0c-25d6ed9db34c"
      },
      "outputs": [
        {
          "data": {
            "text/plain": [
              "'1.2.0'"
            ]
          },
          "execution_count": 3,
          "metadata": {},
          "output_type": "execute_result"
        }
      ],
      "source": [
        "import joblib\n",
        "joblib.__version__"
      ]
    },
    {
      "cell_type": "code",
      "execution_count": null,
      "id": "152c7e7a-aec3-4c4f-9222-a75727e96c83",
      "metadata": {
        "tags": [],
        "id": "152c7e7a-aec3-4c4f-9222-a75727e96c83",
        "outputId": "bdfe08f2-8393-4dd1-9553-c363120c94ec"
      },
      "outputs": [
        {
          "data": {
            "text/plain": [
              "'1.2.2'"
            ]
          },
          "execution_count": 4,
          "metadata": {},
          "output_type": "execute_result"
        }
      ],
      "source": [
        "import sklearn\n",
        "sklearn.__version__"
      ]
    },
    {
      "cell_type": "code",
      "execution_count": null,
      "id": "61524133-7bbd-4f1e-bafb-e92ac32d02c7",
      "metadata": {
        "tags": [],
        "id": "61524133-7bbd-4f1e-bafb-e92ac32d02c7",
        "outputId": "68d3fac8-38d0-408e-fc2a-ef58ba9acefd"
      },
      "outputs": [
        {
          "data": {
            "text/plain": [
              "'1.10.1'"
            ]
          },
          "execution_count": 6,
          "metadata": {},
          "output_type": "execute_result"
        }
      ],
      "source": [
        "import scipy\n",
        "scipy.__version__"
      ]
    },
    {
      "cell_type": "code",
      "execution_count": null,
      "id": "8e7aba8b-1cce-4304-a8a9-95cef3993ba5",
      "metadata": {
        "tags": [],
        "id": "8e7aba8b-1cce-4304-a8a9-95cef3993ba5",
        "outputId": "210480eb-7f83-48a5-c2ee-b2f52dd9f836"
      },
      "outputs": [
        {
          "data": {
            "text/plain": [
              "'67.8.0'"
            ]
          },
          "execution_count": 7,
          "metadata": {},
          "output_type": "execute_result"
        }
      ],
      "source": [
        "import setuptools\n",
        "setuptools.__version__"
      ]
    },
    {
      "cell_type": "code",
      "execution_count": null,
      "id": "4cbe31de-17d2-44d0-bf2f-359125f04f37",
      "metadata": {
        "tags": [],
        "id": "4cbe31de-17d2-44d0-bf2f-359125f04f37",
        "outputId": "882c089f-0995-405b-aec2-3935e66b3149"
      },
      "outputs": [
        {
          "data": {
            "text/plain": [
              "'0.38.4'"
            ]
          },
          "execution_count": 8,
          "metadata": {},
          "output_type": "execute_result"
        }
      ],
      "source": [
        "import wheel\n",
        "wheel.__version__"
      ]
    },
    {
      "cell_type": "code",
      "execution_count": null,
      "id": "aed6b5c2-0710-4476-9d56-e5bb35230dd5",
      "metadata": {
        "tags": [],
        "id": "aed6b5c2-0710-4476-9d56-e5bb35230dd5",
        "outputId": "2b1a484d-884c-4534-ea14-f052702ee325"
      },
      "outputs": [
        {
          "name": "stdout",
          "output_type": "stream",
          "text": [
            "Model has been loaded\n"
          ]
        }
      ],
      "source": [
        "import pytest\n",
        "from prediction_model.config import config\n",
        "from prediction_model.processing.data_handling import load_dataset\n",
        "from prediction_model.predict import generate_predictions"
      ]
    },
    {
      "cell_type": "code",
      "execution_count": null,
      "id": "b93e677f-b7d0-4d91-bb33-349c7fafc438",
      "metadata": {
        "tags": [],
        "id": "b93e677f-b7d0-4d91-bb33-349c7fafc438"
      },
      "outputs": [],
      "source": [
        "def single_prediction():\n",
        "    test_dataset = load_dataset(config.TEST_FILE)\n",
        "    single_row = test_dataset[config.FEATURES][:1]\n",
        "    result = generate_predictions(single_row)\n",
        "    return result"
      ]
    },
    {
      "cell_type": "code",
      "execution_count": null,
      "id": "a59f33f7-81e9-4c8d-9656-1c2ce8845bd0",
      "metadata": {
        "tags": [],
        "id": "a59f33f7-81e9-4c8d-9656-1c2ce8845bd0",
        "outputId": "f14cb8d4-2dfc-4348-aaca-f43f84f2c012"
      },
      "outputs": [
        {
          "name": "stdout",
          "output_type": "stream",
          "text": [
            "  Gender Married Dependents Education Self_Employed  ApplicantIncome  \\\n",
            "0   Male     Yes          0  Graduate            No             5720   \n",
            "\n",
            "   CoapplicantIncome  LoanAmount  Loan_Amount_Term  Credit_History  \\\n",
            "0                  0         110             360.0             1.0   \n",
            "\n",
            "  Property_Area  \n",
            "0         Urban  \n"
          ]
        },
        {
          "data": {
            "text/plain": [
              "{'prediction': array(['Y'], dtype='<U1')}"
            ]
          },
          "execution_count": 5,
          "metadata": {},
          "output_type": "execute_result"
        }
      ],
      "source": [
        "single_prediction()"
      ]
    },
    {
      "cell_type": "code",
      "execution_count": null,
      "id": "e208f33c-5a3f-4138-b481-2162b7274dd5",
      "metadata": {
        "id": "e208f33c-5a3f-4138-b481-2162b7274dd5"
      },
      "outputs": [],
      "source": []
    }
  ],
  "metadata": {
    "kernelspec": {
      "display_name": "Python 3 (ipykernel)",
      "language": "python",
      "name": "python3"
    },
    "language_info": {
      "codemirror_mode": {
        "name": "ipython",
        "version": 3
      },
      "file_extension": ".py",
      "mimetype": "text/x-python",
      "name": "python",
      "nbconvert_exporter": "python",
      "pygments_lexer": "ipython3",
      "version": "3.11.3"
    },
    "colab": {
      "provenance": [],
      "include_colab_link": true
    }
  },
  "nbformat": 4,
  "nbformat_minor": 5
}